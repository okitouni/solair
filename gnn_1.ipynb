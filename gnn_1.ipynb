{
 "cells": [
  {
   "cell_type": "code",
   "execution_count": 1,
   "id": "26bb3de5-9029-42ea-acef-4f10a0d89e7d",
   "metadata": {},
   "outputs": [
    {
     "name": "stderr",
     "output_type": "stream",
     "text": [
      "/opt/conda/envs/FDL/lib/python3.10/site-packages/tqdm/auto.py:22: TqdmWarning: IProgress not found. Please update jupyter and ipywidgets. See https://ipywidgets.readthedocs.io/en/stable/user_install.html\n",
      "  from .autonotebook import tqdm as notebook_tqdm\n"
     ]
    }
   ],
   "source": [
    "import pandas as pd\n",
    "\n",
    "import matplotlib.pyplot as plt\n",
    "import os.path as osp\n",
    "\n",
    "import torch\n",
    "from torch_geometric.data import Data, Dataset\n",
    "from torch_geometric.loader import NeighborLoader\n",
    "import torch_geometric.transforms as T"
   ]
  },
  {
   "cell_type": "code",
   "execution_count": 2,
   "id": "9caf17b5-4bb5-403c-9d6a-d833a2983f7a",
   "metadata": {},
   "outputs": [
    {
     "data": {
      "text/html": [
       "<div>\n",
       "<style scoped>\n",
       "    .dataframe tbody tr th:only-of-type {\n",
       "        vertical-align: middle;\n",
       "    }\n",
       "\n",
       "    .dataframe tbody tr th {\n",
       "        vertical-align: top;\n",
       "    }\n",
       "\n",
       "    .dataframe thead th {\n",
       "        text-align: right;\n",
       "    }\n",
       "</style>\n",
       "<table border=\"1\" class=\"dataframe\">\n",
       "  <thead>\n",
       "    <tr style=\"text-align: right;\">\n",
       "      <th></th>\n",
       "      <th>Block Name</th>\n",
       "      <th>Point ID</th>\n",
       "      <th>Points_0</th>\n",
       "      <th>Points_1</th>\n",
       "      <th>Points_2</th>\n",
       "      <th>Points_Magnitude</th>\n",
       "      <th>T</th>\n",
       "      <th>U_0</th>\n",
       "      <th>U_1</th>\n",
       "      <th>U_2</th>\n",
       "      <th>U_Magnitude</th>\n",
       "      <th>alphat</th>\n",
       "      <th>epsilon</th>\n",
       "      <th>k</th>\n",
       "      <th>nut</th>\n",
       "      <th>p</th>\n",
       "      <th>p_rgh</th>\n",
       "      <th>rho</th>\n",
       "    </tr>\n",
       "  </thead>\n",
       "  <tbody>\n",
       "    <tr>\n",
       "      <th>0</th>\n",
       "      <td>internalMesh</td>\n",
       "      <td>0</td>\n",
       "      <td>-0.01790</td>\n",
       "      <td>-0.1</td>\n",
       "      <td>-0.1</td>\n",
       "      <td>0.142550</td>\n",
       "      <td>298.15</td>\n",
       "      <td>0.0</td>\n",
       "      <td>0.1375</td>\n",
       "      <td>0.0</td>\n",
       "      <td>0.1375</td>\n",
       "      <td>0.052486</td>\n",
       "      <td>1.25853</td>\n",
       "      <td>0.099636</td>\n",
       "      <td>0.04502</td>\n",
       "      <td>100001.0</td>\n",
       "      <td>100000.0</td>\n",
       "      <td>1.16583</td>\n",
       "    </tr>\n",
       "    <tr>\n",
       "      <th>2</th>\n",
       "      <td>internalMesh</td>\n",
       "      <td>2</td>\n",
       "      <td>-0.01074</td>\n",
       "      <td>-0.1</td>\n",
       "      <td>-0.1</td>\n",
       "      <td>0.141829</td>\n",
       "      <td>298.15</td>\n",
       "      <td>0.0</td>\n",
       "      <td>0.1375</td>\n",
       "      <td>0.0</td>\n",
       "      <td>0.1375</td>\n",
       "      <td>0.052486</td>\n",
       "      <td>1.25853</td>\n",
       "      <td>0.099636</td>\n",
       "      <td>0.04502</td>\n",
       "      <td>100001.0</td>\n",
       "      <td>100000.0</td>\n",
       "      <td>1.16583</td>\n",
       "    </tr>\n",
       "    <tr>\n",
       "      <th>4</th>\n",
       "      <td>internalMesh</td>\n",
       "      <td>4</td>\n",
       "      <td>-0.00358</td>\n",
       "      <td>-0.1</td>\n",
       "      <td>-0.1</td>\n",
       "      <td>0.141467</td>\n",
       "      <td>298.15</td>\n",
       "      <td>0.0</td>\n",
       "      <td>0.1375</td>\n",
       "      <td>0.0</td>\n",
       "      <td>0.1375</td>\n",
       "      <td>0.052486</td>\n",
       "      <td>1.25853</td>\n",
       "      <td>0.099636</td>\n",
       "      <td>0.04502</td>\n",
       "      <td>100001.0</td>\n",
       "      <td>100000.0</td>\n",
       "      <td>1.16583</td>\n",
       "    </tr>\n",
       "    <tr>\n",
       "      <th>6</th>\n",
       "      <td>internalMesh</td>\n",
       "      <td>6</td>\n",
       "      <td>0.00358</td>\n",
       "      <td>-0.1</td>\n",
       "      <td>-0.1</td>\n",
       "      <td>0.141467</td>\n",
       "      <td>298.15</td>\n",
       "      <td>0.0</td>\n",
       "      <td>0.1375</td>\n",
       "      <td>0.0</td>\n",
       "      <td>0.1375</td>\n",
       "      <td>0.052486</td>\n",
       "      <td>1.25853</td>\n",
       "      <td>0.099636</td>\n",
       "      <td>0.04502</td>\n",
       "      <td>100001.0</td>\n",
       "      <td>100000.0</td>\n",
       "      <td>1.16583</td>\n",
       "    </tr>\n",
       "    <tr>\n",
       "      <th>8</th>\n",
       "      <td>internalMesh</td>\n",
       "      <td>8</td>\n",
       "      <td>0.01074</td>\n",
       "      <td>-0.1</td>\n",
       "      <td>-0.1</td>\n",
       "      <td>0.141829</td>\n",
       "      <td>298.15</td>\n",
       "      <td>0.0</td>\n",
       "      <td>0.1375</td>\n",
       "      <td>0.0</td>\n",
       "      <td>0.1375</td>\n",
       "      <td>0.052486</td>\n",
       "      <td>1.25853</td>\n",
       "      <td>0.099636</td>\n",
       "      <td>0.04502</td>\n",
       "      <td>100001.0</td>\n",
       "      <td>100000.0</td>\n",
       "      <td>1.16583</td>\n",
       "    </tr>\n",
       "  </tbody>\n",
       "</table>\n",
       "</div>"
      ],
      "text/plain": [
       "     Block Name  Point ID  Points_0  Points_1  Points_2  Points_Magnitude  \\\n",
       "0  internalMesh         0  -0.01790      -0.1      -0.1          0.142550   \n",
       "2  internalMesh         2  -0.01074      -0.1      -0.1          0.141829   \n",
       "4  internalMesh         4  -0.00358      -0.1      -0.1          0.141467   \n",
       "6  internalMesh         6   0.00358      -0.1      -0.1          0.141467   \n",
       "8  internalMesh         8   0.01074      -0.1      -0.1          0.141829   \n",
       "\n",
       "        T  U_0     U_1  U_2  U_Magnitude    alphat  epsilon         k  \\\n",
       "0  298.15  0.0  0.1375  0.0       0.1375  0.052486  1.25853  0.099636   \n",
       "2  298.15  0.0  0.1375  0.0       0.1375  0.052486  1.25853  0.099636   \n",
       "4  298.15  0.0  0.1375  0.0       0.1375  0.052486  1.25853  0.099636   \n",
       "6  298.15  0.0  0.1375  0.0       0.1375  0.052486  1.25853  0.099636   \n",
       "8  298.15  0.0  0.1375  0.0       0.1375  0.052486  1.25853  0.099636   \n",
       "\n",
       "       nut         p     p_rgh      rho  \n",
       "0  0.04502  100001.0  100000.0  1.16583  \n",
       "2  0.04502  100001.0  100000.0  1.16583  \n",
       "4  0.04502  100001.0  100000.0  1.16583  \n",
       "6  0.04502  100001.0  100000.0  1.16583  \n",
       "8  0.04502  100001.0  100000.0  1.16583  "
      ]
     },
     "execution_count": 2,
     "metadata": {},
     "output_type": "execute_result"
    }
   ],
   "source": [
    "df_all = pd.read_csv('./data/raw/data_air.csv')  \n",
    "df = df_all[df_all['Block Name']=='internalMesh'].iloc[::2]\n",
    "df.head()"
   ]
  },
  {
   "cell_type": "code",
   "execution_count": 3,
   "id": "318e2da0-6f53-45a4-93a8-6565bf51e3fb",
   "metadata": {},
   "outputs": [
    {
     "data": {
      "image/png": "[encoded data removed]",
      "text/plain": [
       "<Figure size 432x288 with 1 Axes>"
      ]
     },
     "metadata": {
      "needs_background": "light"
     },
     "output_type": "display_data"
    }
   ],
   "source": [
    "fig = plt.figure()\n",
    "ax = plt.axes(projection='3d')\n",
    "ax.view_init(elev=10., azim=-10)\n",
    "ax.scatter3D(df['Points_0'], df['Points_1'], df['Points_2'],c=df['T'], s = 1,cmap='Greens');\n",
    "#ax.scatter3D(df['Points_0'][0:20], df['Points_1'][0:20], df['Points_2'][0:20], c=df['initial_T'][0:20], s = 10);\n",
    "#ax.scatter3D(df['Points_0'][0], df['Points_1'][0], df['Points_2'][0], c=df['Points_2'][0], s = 50);\n",
    "#ax.scatter3D(df['Points_0'][1], df['Points_1'][1], df['Points_2'][1], c=df['Points_2'][1], s = 50);\n",
    "#ax.scatter3D(df['Points_0'][11], df['Points_1'][11], df['Points_2'][11], c=df['Points_2'][11], s = 50);"
   ]
  },
  {
   "cell_type": "code",
   "execution_count": 4,
   "id": "3021e73e",
   "metadata": {},
   "outputs": [],
   "source": [
    "class CFD_dataset(Dataset):\n",
    "    def __init__(self, root, local_neighborhood = 0.01, transform=None, pre_filter=None, train_frac=0.8):\n",
    "        self.pre_transform=T.RadiusGraph(local_neighborhood)\n",
    "        self.root = root\n",
    "        self.train_frac = train_frac\n",
    "        super().__init__(root, transform, self.pre_transform, pre_filter)\n",
    "\n",
    "    @property\n",
    "    def raw_file_names(self):\n",
    "        return ['data_air.csv']\n",
    "\n",
    "    @property\n",
    "    def processed_file_names(self):\n",
    "        return ['data_air.pt']\n",
    "\n",
    "    def process(self):\n",
    "        torch.manual_seed(0)\n",
    "        for idx, raw_path in enumerate(self.raw_paths):\n",
    "            df = pd.read_csv(raw_path) [df_all['Block Name']=='internalMesh'].iloc[::2]\n",
    "            x = torch.Tensor(df[['Points_0','Points_1','Points_2']].to_numpy())\n",
    "            y = torch.Tensor(df[['T']].to_numpy())\n",
    "            pos = torch.Tensor(df[['Points_0','Points_1','Points_2']].to_numpy())\n",
    "            data = Data(x = x, edge_index = None, pos = pos, y = y)\n",
    "            data = self.pre_transform(data)\n",
    "            # set training mask\n",
    "            data.train_mask = torch.rand(data.num_nodes) < self.train_frac\n",
    "            torch.save(data, osp.join(self.processed_dir, f'data_{idx}.pt'))\n",
    "            idx += 1\n",
    "\n",
    "    def len(self):\n",
    "        return len(self.processed_file_names)\n",
    "\n",
    "    def get(self, idx):\n",
    "        data = torch.load(osp.join(self.processed_dir, f'data_{idx}.pt'))\n",
    "        return data"
   ]
  },
  {
   "cell_type": "code",
   "execution_count": 5,
   "id": "f83864b1-bd76-4732-80ec-14ba160a4342",
   "metadata": {},
   "outputs": [
    {
     "name": "stderr",
     "output_type": "stream",
     "text": [
      "Processing...\n",
      "Done!\n"
     ]
    }
   ],
   "source": [
    "dataset = CFD_dataset('./data/')\n",
    "dataset.out_features = 1\n",
    "data = dataset[0]"
   ]
  },
  {
   "cell_type": "code",
   "execution_count": 6,
   "id": "0af6f8d8",
   "metadata": {},
   "outputs": [],
   "source": [
    "train_loader = NeighborLoader(\n",
    "    data,\n",
    "    num_neighbors=[4]*6,\n",
    "    batch_size=128,\n",
    "    input_nodes=data.train_mask,\n",
    ")\n",
    "test_loader = NeighborLoader(\n",
    "    data,\n",
    "    num_neighbors=[4]*6,\n",
    "    batch_size=128,\n",
    "    shuffle=False,\n",
    "    input_nodes=~data.train_mask,\n",
    ")\n"
   ]
  },
  {
   "cell_type": "code",
   "execution_count": 7,
   "id": "388d618d-566e-460e-ba72-74983aef5449",
   "metadata": {},
   "outputs": [],
   "source": [
    "import torch.nn.functional as F\n",
    "from torch_geometric.nn import GCNConv\n",
    "\n",
    "class GCN(torch.nn.Module):\n",
    "    def __init__(self, hidden_channels=128, hidden_layers=3):\n",
    "        super().__init__()\n",
    "        self.layers = [GCNConv(data.num_features, hidden_channels, cached=False)]\n",
    "        for _ in range(hidden_layers - 1):\n",
    "            self.layers.append(GCNConv(hidden_channels, hidden_channels, cached=False))\n",
    "        self.layers = torch.nn.ModuleList(self.layers)\n",
    "        \n",
    "        self.regressor = torch.nn.Sequential(\n",
    "            torch.nn.Linear(hidden_channels, hidden_channels),\n",
    "            torch.nn.LeakyReLU(),\n",
    "            torch.nn.Linear(hidden_channels, hidden_channels),\n",
    "            torch.nn.LeakyReLU(),\n",
    "            torch.nn.Linear(hidden_channels, 1),\n",
    "        )\n",
    "\n",
    "    def forward(self, data):\n",
    "        x, edge_index = data.x, data.edge_index\n",
    "        for layer in self.layers:\n",
    "            x = layer(x, edge_index)\n",
    "            x = F.relu(x)\n",
    "        x = self.regressor(x)\n",
    "        return x"
   ]
  },
  {
   "cell_type": "code",
   "execution_count": 8,
   "id": "a2dc0afd-05db-4a96-9691-50afb9c51680",
   "metadata": {},
   "outputs": [],
   "source": [
    "device = torch.device('cuda' if torch.cuda.is_available() else 'cpu')"
   ]
  },
  {
   "cell_type": "code",
   "execution_count": 9,
   "id": "71f7233e-e551-4e2b-bc90-ba1d61f63037",
   "metadata": {},
   "outputs": [],
   "source": [
    "model = GCN(256, 4).to(device)\n",
    "optimizer = torch.optim.Adam(model.parameters(), lr=0.001)#, weight_decay=5e-4)"
   ]
  },
  {
   "cell_type": "code",
   "execution_count": 10,
   "id": "fde944a0-d5d3-4489-8f03-1dc1c6e31beb",
   "metadata": {},
   "outputs": [],
   "source": [
    "# useful function for computing accuracy\n",
    "import torch.nn as nn\n",
    "loss_mse = nn.MSELoss()\n",
    "def compute_mse(pred_y, y):\n",
    "    return loss_mse(pred_y,y)"
   ]
  },
  {
   "cell_type": "code",
   "execution_count": 11,
   "id": "d39c7683-d8ad-4f69-8a51-b207e9387abb",
   "metadata": {},
   "outputs": [
    {
     "name": "stderr",
     "output_type": "stream",
     "text": [
      "Epoch 034| Loss: 1.2862:  33%|███▎      | 19886/59700 [11:49<22:14, 29.83it/s]  "
     ]
    }
   ],
   "source": [
    "from tqdm import trange\n",
    "# train the model\n",
    "model.train()\n",
    "losses_train = []\n",
    "losses_val = []\n",
    "\n",
    "EPOCHS = 100\n",
    "pbar = trange(len(train_loader) * EPOCHS, desc='Training')\n",
    "for epoch in range(EPOCHS):\n",
    "    for i, data in enumerate(train_loader):\n",
    "        data = data.to(device)\n",
    "        optimizer.zero_grad()\n",
    "        out = model(data)\n",
    "        loss = loss_mse(out, data.y)\n",
    "        losses_train.append(loss.item())\n",
    "        loss.backward()\n",
    "        optimizer.step()\n",
    "        # validation step\n",
    "        if i % 20 == 0:\n",
    "            model.eval()\n",
    "            with torch.no_grad():\n",
    "                for data in test_loader:\n",
    "                    data = data.to(device)\n",
    "                    out = model(data)\n",
    "                    loss_val = compute_mse(out, data.y)\n",
    "                    losses_val.append(loss_val.item())\n",
    "            model.train()\n",
    "\n",
    "        pbar.update(1)\n",
    "        pbar.set_description(f'Epoch {epoch + 1:03d}| Loss train: {loss.item():.4f}, Loss val: {loss_val.item():.4f}')\n"
   ]
  },
  {
   "cell_type": "code",
   "execution_count": null,
   "id": "bfbfd5e0-c261-48df-a4f5-1e1bf4bab6ee",
   "metadata": {},
   "outputs": [
    {
     "data": {
      "text/plain": [
       "[<matplotlib.lines.Line2D at 0x7f7436504fa0>]"
      ]
     },
     "execution_count": 10,
     "metadata": {},
     "output_type": "execute_result"
    },
    {
     "data": {
      "image/png": "[encoded data removed]",
      "text/plain": [
       "<Figure size 432x288 with 1 Axes>"
      ]
     },
     "metadata": {
      "needs_background": "light"
     },
     "output_type": "display_data"
    }
   ],
   "source": [
    "plt.plot(out.detach().numpy())"
   ]
  },
  {
   "cell_type": "code",
   "execution_count": null,
   "id": "9ae7907d-cce9-4c4e-8dfb-7538ae08a3ce",
   "metadata": {},
   "outputs": [
    {
     "data": {
      "text/plain": [
       "[<matplotlib.lines.Line2D at 0x7f74363f7940>]"
      ]
     },
     "execution_count": 11,
     "metadata": {},
     "output_type": "execute_result"
    },
    {
     "data": {
      "image/png": "[encoded data removed]",
      "text/plain": [
       "<Figure size 432x288 with 1 Axes>"
      ]
     },
     "metadata": {
      "needs_background": "light"
     },
     "output_type": "display_data"
    }
   ],
   "source": [
    "plt.plot(data.y.detach().numpy())"
   ]
  },
  {
   "cell_type": "code",
   "execution_count": null,
   "id": "23b1f7ae-4946-4176-9cdf-96c0825a2ce3",
   "metadata": {},
   "outputs": [],
   "source": []
  },
  {
   "cell_type": "code",
   "execution_count": null,
   "id": "091876bf-b870-4c1f-9737-6ae0e5423baa",
   "metadata": {},
   "outputs": [],
   "source": []
  }
 ],
 "metadata": {
  "kernelspec": {
   "display_name": "Python 3.10.5 ('FDL')",
   "language": "python",
   "name": "python3"
  },
  "language_info": {
   "codemirror_mode": {
    "name": "ipython",
    "version": 3
   },
   "file_extension": ".py",
   "mimetype": "text/x-python",
   "name": "python",
   "nbconvert_exporter": "python",
   "pygments_lexer": "ipython3",
   "version": "3.10.5"
  },
  "vscode": {
   "interpreter": {
    "hash": "ad9506ec108f648737fd3f8bd4fb156d68933eefa91a905ade7f69eea88648bc"
   }
  }
 },
 "nbformat": 4,
 "nbformat_minor": 5
}
